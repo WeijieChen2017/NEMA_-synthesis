{
 "cells": [
  {
   "cell_type": "markdown",
   "metadata": {},
   "source": [
    "### Read orginal PET"
   ]
  },
  {
   "cell_type": "code",
   "execution_count": 1,
   "metadata": {},
   "outputs": [],
   "source": [
    "import copy\n",
    "import nibabel as nib\n",
    "from skimage.transform import rescale, resize"
   ]
  },
  {
   "cell_type": "code",
   "execution_count": 2,
   "metadata": {},
   "outputs": [],
   "source": [
    "nii_PET = nib.load(\"PET_D.nii\")\n",
    "header_PET = nii_PET.header\n",
    "affine_PET = nii_PET.affine\n",
    "data_PET = nii_PET.get_fdata()"
   ]
  },
  {
   "cell_type": "markdown",
   "metadata": {},
   "source": [
    "### Upscaling images by 4, 4, 1"
   ]
  },
  {
   "cell_type": "code",
   "execution_count": 3,
   "metadata": {},
   "outputs": [
    {
     "name": "stdout",
     "output_type": "stream",
     "text": [
      "(128, 128, 47)\n",
      "(512, 512, 47)\n"
     ]
    }
   ],
   "source": [
    "print(data_PET.shape)\n",
    "data_PET_r = rescale(data_PET, (4, 4, 1), anti_aliasing=False)\n",
    "print(data_PET_r.shape)"
   ]
  },
  {
   "cell_type": "markdown",
   "metadata": {},
   "source": [
    "### Change affine and header"
   ]
  },
  {
   "cell_type": "code",
   "execution_count": 4,
   "metadata": {},
   "outputs": [
    {
     "name": "stdout",
     "output_type": "stream",
     "text": [
      "[[  -5.46875      -0.            0.          347.265625  ]\n",
      " [   0.            5.46875       0.         -347.265625  ]\n",
      " [   0.            0.            3.26999664  -69.41984558]\n",
      " [   0.            0.            0.            1.        ]]\n"
     ]
    }
   ],
   "source": [
    "print(affine_PET)"
   ]
  },
  {
   "cell_type": "code",
   "execution_count": 5,
   "metadata": {},
   "outputs": [
    {
     "name": "stdout",
     "output_type": "stream",
     "text": [
      "[[  -1.3671875    -0.            0.          347.265625  ]\n",
      " [   0.            1.3671875     0.         -347.265625  ]\n",
      " [   0.            0.            3.26999664  -69.41984558]\n",
      " [   0.            0.            0.            1.        ]]\n"
     ]
    }
   ],
   "source": [
    "affine_PET_r = copy.deepcopy(affine_PET)\n",
    "affine_PET_r[0,0] /= 4\n",
    "affine_PET_r[1,1] /= 4\n",
    "print(affine_PET_r)"
   ]
  },
  {
   "cell_type": "code",
   "execution_count": 6,
   "metadata": {},
   "outputs": [
    {
     "name": "stdout",
     "output_type": "stream",
     "text": [
      "<class 'nibabel.nifti1.Nifti1Header'> object, endian='<'\n",
      "sizeof_hdr      : 348\n",
      "data_type       : b''\n",
      "db_name         : b''\n",
      "extents         : 0\n",
      "session_error   : 0\n",
      "regular         : b'r'\n",
      "dim_info        : 0\n",
      "dim             : [  3 128 128  47   1   0   0   0]\n",
      "intent_p1       : 0.0\n",
      "intent_p2       : 0.0\n",
      "intent_p3       : 0.0\n",
      "intent_code     : none\n",
      "datatype        : float32\n",
      "bitpix          : 32\n",
      "slice_start     : 0\n",
      "pixdim          : [-1.         5.46875    5.46875    3.2699966  0.         0.\n",
      "  0.         0.       ]\n",
      "vox_offset      : 0.0\n",
      "scl_slope       : nan\n",
      "scl_inter       : nan\n",
      "slice_end       : 0\n",
      "slice_code      : unknown\n",
      "xyzt_units      : 10\n",
      "cal_max         : 0.0\n",
      "cal_min         : 0.0\n",
      "slice_duration  : 0.0\n",
      "toffset         : 0.0\n",
      "glmax           : 0\n",
      "glmin           : 0\n",
      "descrip         : b'TE=0;Time=154500.000'\n",
      "aux_file        : b''\n",
      "qform_code      : scanner\n",
      "sform_code      : scanner\n",
      "quatern_b       : 0.0\n",
      "quatern_c       : 1.0\n",
      "quatern_d       : 0.0\n",
      "qoffset_x       : 347.26562\n",
      "qoffset_y       : -347.26562\n",
      "qoffset_z       : -69.419846\n",
      "srow_x          : [ -5.46875  -0.        0.      347.26562]\n",
      "srow_y          : [   0.         5.46875    0.      -347.26562]\n",
      "srow_z          : [  0.          0.          3.2699966 -69.419846 ]\n",
      "intent_name     : b''\n",
      "magic           : b'n+1'\n"
     ]
    }
   ],
   "source": [
    "print(header_PET)"
   ]
  },
  {
   "cell_type": "code",
   "execution_count": 15,
   "metadata": {},
   "outputs": [
    {
     "name": "stdout",
     "output_type": "stream",
     "text": [
      "[  3 128 128  47   1   0   0   0]\n",
      "[  3 512 512  47   1   0   0   0]\n",
      "=====================================================\n",
      "[-1.         5.46875    5.46875    3.2699966  0.         0.\n",
      "  0.         0.       ]\n",
      "[-1.         1.3671875  1.3671875  3.2699966  0.         0.\n",
      "  0.         0.       ]\n",
      "=====================================================\n",
      "[ -5.46875  -0.        0.      347.26562]\n",
      "[   0.         5.46875    0.      -347.26562]\n",
      "[ -1.3671875  -0.          0.        347.26562  ]\n",
      "[   0.           1.3671875    0.        -347.26562  ]\n"
     ]
    }
   ],
   "source": [
    "header_PET_r = copy.deepcopy(header_PET)\n",
    "print(header_PET_r[\"dim\"])\n",
    "header_PET_r[\"dim\"][1] *= 4\n",
    "header_PET_r[\"dim\"][2] *= 4\n",
    "print(header_PET_r[\"dim\"])\n",
    "print(\"=====================================================\")\n",
    "print(header_PET_r[\"pixdim\"])\n",
    "header_PET_r[\"pixdim\"][1] /= 4\n",
    "header_PET_r[\"pixdim\"][2] /= 4\n",
    "print(header_PET_r[\"pixdim\"])\n",
    "print(\"=====================================================\")\n",
    "print(header_PET_r[\"srow_x\"])\n",
    "print(header_PET_r[\"srow_y\"])\n",
    "header_PET_r[\"srow_x\"][0] /= 4\n",
    "header_PET_r[\"srow_y\"][1] /= 4\n",
    "print(header_PET_r[\"srow_x\"])\n",
    "print(header_PET_r[\"srow_y\"])"
   ]
  },
  {
   "cell_type": "markdown",
   "metadata": {},
   "source": [
    "### Assemble it back"
   ]
  },
  {
   "cell_type": "code",
   "execution_count": 17,
   "metadata": {},
   "outputs": [],
   "source": [
    "nii_PET_r = nib.Nifti1Image(data_PET_r, affine_PET_r, header_PET_r)\n",
    "nib.save(nii_PET_r, \"PET_r.nii\")"
   ]
  }
 ],
 "metadata": {
  "kernelspec": {
   "display_name": "Python 3",
   "language": "python",
   "name": "python3"
  },
  "language_info": {
   "codemirror_mode": {
    "name": "ipython",
    "version": 3
   },
   "file_extension": ".py",
   "mimetype": "text/x-python",
   "name": "python",
   "nbconvert_exporter": "python",
   "pygments_lexer": "ipython3",
   "version": "3.7.5"
  }
 },
 "nbformat": 4,
 "nbformat_minor": 2
}
