{
 "cells": [
  {
   "cell_type": "markdown",
   "metadata": {},
   "source": [
    "### Read orginal CT and PET"
   ]
  },
  {
   "cell_type": "code",
   "execution_count": 59,
   "metadata": {},
   "outputs": [],
   "source": [
    "import copy\n",
    "import numpy as np\n",
    "import numpy.ma as ma\n",
    "import nibabel as nib\n",
    "from nibabel import processing\n",
    "from skimage.transform import rescale, resize\n",
    "import matplotlib.pyplot as plt"
   ]
  },
  {
   "cell_type": "code",
   "execution_count": 2,
   "metadata": {},
   "outputs": [],
   "source": [
    "nii_PET = nib.load(\"PET_r.nii\")\n",
    "header_PET = nii_PET.header\n",
    "affine_PET = nii_PET.affine\n",
    "data_PET = nii_PET.get_fdata()"
   ]
  },
  {
   "cell_type": "code",
   "execution_count": 3,
   "metadata": {},
   "outputs": [],
   "source": [
    "nii_CT = nib.load(\"CT_C.nii\")\n",
    "header_CT = nii_CT.header\n",
    "affine_CT = nii_CT.affine\n",
    "data_CT = nii_CT.get_fdata()"
   ]
  },
  {
   "cell_type": "markdown",
   "metadata": {},
   "source": [
    "### Load 3 segmentation\n",
    "1. active PET area\n",
    "2. middle cavity\n",
    "3. human tissue"
   ]
  },
  {
   "cell_type": "code",
   "execution_count": 13,
   "metadata": {},
   "outputs": [],
   "source": [
    "nii_seg1 = nib.load(\"seg_1.nii.gz\")\n",
    "data_seg1 = nii_seg1.get_fdata()\n",
    "nii_seg2 = nib.load(\"seg_2.nii.gz\")\n",
    "data_seg2 = nii_seg2.get_fdata()\n",
    "nii_seg3 = nib.load(\"seg_3.nii.gz\")\n",
    "data_seg3 = nii_seg3.get_fdata()\n",
    "nii_seg4 = nib.load(\"seg_4.nii.gz\")\n",
    "data_seg4 = nii_seg4.get_fdata()"
   ]
  },
  {
   "cell_type": "code",
   "execution_count": 14,
   "metadata": {},
   "outputs": [
    {
     "name": "stdout",
     "output_type": "stream",
     "text": [
      "512 512 47\n"
     ]
    }
   ],
   "source": [
    "imgx, imgy, imgz = data_PET.shape\n",
    "print(imgx,imgy,imgz)"
   ]
  },
  {
   "cell_type": "markdown",
   "metadata": {},
   "source": [
    "1. real CT\n",
    "2. middle cavity\n",
    "3. human tissue\n",
    "4. PET ball"
   ]
  },
  {
   "cell_type": "code",
   "execution_count": 76,
   "metadata": {},
   "outputs": [
    {
     "name": "stdout",
     "output_type": "stream",
     "text": [
      "(19351,) (62296,) (1326882,) (12839,)\n"
     ]
    }
   ],
   "source": [
    "ravel_m1 = []\n",
    "ravel_m2 = []\n",
    "ravel_m3 = []\n",
    "ravel_m4 = []\n",
    "data_seg = data_PET\n",
    "\n",
    "for idx in range(imgx):\n",
    "    for idy in range(imgy):\n",
    "        for idz in range(imgz):\n",
    "            if data_seg1[idx, idy, idz] == 1:\n",
    "                ravel_m1.append(data_seg[idx, idy, idz])\n",
    "            if data_seg2[idx, idy, idz] == 1:\n",
    "                ravel_m2.append(data_seg[idx, idy, idz])\n",
    "            if (data_seg3[idx, idy, idz] == 3)and\\\n",
    "               (data_seg2[idx, idy, idz] != 1)and\\\n",
    "               (data_seg1[idx, idy, idz] != 1):\n",
    "                ravel_m3.append(data_seg[idx, idy, idz])\n",
    "            if data_seg4[idx, idy, idz] == 1:\n",
    "                ravel_m4.append(data_seg[idx, idy, idz])\n",
    "\n",
    "ravel_m1 = np.array(ravel_m1)\n",
    "ravel_m2 = np.array(ravel_m2)\n",
    "ravel_m3 = np.array(ravel_m3)\n",
    "ravel_m4 = np.array(ravel_m4)\n",
    "print(ravel_m1.shape, ravel_m2.shape, ravel_m3.shape, ravel_m4.shape)"
   ]
  },
  {
   "cell_type": "code",
   "execution_count": 70,
   "metadata": {},
   "outputs": [
    {
     "data": {
      "text/plain": [
       "Text(0.5, 1.0, 'Seg4')"
      ]
     },
     "execution_count": 70,
     "metadata": {},
     "output_type": "execute_result"
    },
    {
     "data": {
      "image/png": "[encoded data removed]",
      "text/plain": [
       "<Figure size 600x600 with 5 Axes>"
      ]
     },
     "metadata": {
      "needs_background": "light"
     },
     "output_type": "display_data"
    }
   ],
   "source": [
    "plt.figure(figsize=(6,6), dpi=100)\n",
    "plt.subplot(5,1,1)\n",
    "plt.hist(np.ravel(data_PET), bins=64)\n",
    "plt.title(\"Orginal\")\n",
    "plt.subplot(5,1,2)\n",
    "plt.hist(ravel_m1, bins=64)\n",
    "plt.title(\"Seg1\")\n",
    "plt.subplot(5,1,3)\n",
    "plt.hist(ravel_m2, bins=64)\n",
    "plt.title(\"Seg2\")\n",
    "plt.subplot(5,1,4)\n",
    "plt.hist(ravel_m3, bins=64)\n",
    "plt.title(\"Seg3\")\n",
    "plt.subplot(5,1,5)\n",
    "plt.hist(ravel_m4, bins=64)\n",
    "plt.title(\"Seg4\")"
   ]
  },
  {
   "cell_type": "code",
   "execution_count": 71,
   "metadata": {},
   "outputs": [
    {
     "name": "stdout",
     "output_type": "stream",
     "text": [
      "9806.224106591158 29785022.52613664\n",
      "1838.2496923716335 988508.0460431965\n",
      "4585.81028873277 1999247.0715178258\n",
      "12310.002868970854 24749059.869613852\n"
     ]
    }
   ],
   "source": [
    "mu_m1 = np.mean(ravel_m1)\n",
    "mu_m2 = np.mean(ravel_m2)\n",
    "mu_m3 = np.mean(ravel_m3)\n",
    "mu_m4 = np.mean(ravel_m4)\n",
    "\n",
    "sigma_m1 = np.var(ravel_m1)\n",
    "sigma_m2 = np.var(ravel_m2)\n",
    "sigma_m3 = np.var(ravel_m3)\n",
    "sigma_m4 = np.var(ravel_m4)\n",
    "\n",
    "print(mu_m1, sigma_m1)\n",
    "print(mu_m2, sigma_m2)\n",
    "print(mu_m3, sigma_m3)\n",
    "print(mu_m4, sigma_m4)"
   ]
  },
  {
   "cell_type": "code",
   "execution_count": 72,
   "metadata": {},
   "outputs": [
    {
     "name": "stdout",
     "output_type": "stream",
     "text": [
      "3163.8289794921875 20887.2666015625\n",
      "342.9103546142578 4821.379272460939\n",
      "270.4205401611328 7165.526870117186\n",
      "4617.538828125 21086.862929687493\n",
      "\n",
      "1835.63720703125 22851.53125\n",
      "91.75639343261719 14870.4365234375\n",
      "4.384741306304932 25065.80859375\n",
      "3522.948486328125 22851.53125\n"
     ]
    }
   ],
   "source": [
    "print(np.percentile(ravel_m1, q=1), np.percentile(ravel_m1, q=99))\n",
    "print(np.percentile(ravel_m2, q=1), np.percentile(ravel_m2, q=99))\n",
    "print(np.percentile(ravel_m3, q=1), np.percentile(ravel_m3, q=99))\n",
    "print(np.percentile(ravel_m4, q=1), np.percentile(ravel_m4, q=99))\n",
    "print()\n",
    "print(np.percentile(ravel_m1, q=0), np.percentile(ravel_m1, q=100))\n",
    "print(np.percentile(ravel_m2, q=0), np.percentile(ravel_m2, q=100))\n",
    "print(np.percentile(ravel_m3, q=0), np.percentile(ravel_m3, q=100))\n",
    "print(np.percentile(ravel_m4, q=0), np.percentile(ravel_m4, q=100))\n",
    "\n",
    "min_m1 = np.percentile(ravel_m1, q=1)\n",
    "min_m2 = np.percentile(ravel_m2, q=1)\n",
    "min_m3 = np.percentile(ravel_m3, q=1)\n",
    "min_m4 = np.percentile(ravel_m4, q=1)\n",
    "\n",
    "max_m1 = np.percentile(ravel_m1, q=99)\n",
    "max_m2 = np.percentile(ravel_m2, q=99)\n",
    "max_m3 = np.percentile(ravel_m3, q=99)\n",
    "max_m4 = np.percentile(ravel_m4, q=99)"
   ]
  },
  {
   "cell_type": "markdown",
   "metadata": {},
   "source": [
    "### Create syn CT-like PET"
   ]
  },
  {
   "cell_type": "code",
   "execution_count": 79,
   "metadata": {},
   "outputs": [],
   "source": [
    "data_CT_syn = np.zeros(data_PET.shape)\n",
    "ravel_m1_syn = np.random.normal(mu_m4, sigma_m4, len(ravel_m1))\n",
    "ravel_m2_syn = np.random.normal(mu_m2, sigma_m2, len(ravel_m2))\n",
    "ravel_m3_syn = np.random.normal(mu_m3, sigma_m3, len(ravel_m3))\n",
    "ravel_m1_syn[ravel_m1_syn<min_m4] = np.min(min_m4)\n",
    "ravel_m2_syn[ravel_m2_syn<min_m2] = np.min(min_m2)\n",
    "ravel_m3_syn[ravel_m3_syn<min_m3] = np.min(min_m3)\n",
    "ravel_m1_syn[ravel_m1_syn>max_m4] = np.max(max_m4)\n",
    "ravel_m2_syn[ravel_m2_syn>max_m2] = np.max(max_m2)\n",
    "ravel_m3_syn[ravel_m3_syn>max_m3] = np.max(max_m3)\n",
    "point_m1 = 0\n",
    "point_m2 = 0\n",
    "point_m3 = 0"
   ]
  },
  {
   "cell_type": "code",
   "execution_count": 80,
   "metadata": {},
   "outputs": [],
   "source": [
    "for idx in range(imgx):\n",
    "    for idy in range(imgy):\n",
    "        for idz in range(imgz):\n",
    "            if data_seg1[idx, idy, idz] == 1:\n",
    "                data_CT_syn[idx, idy, idz] = ravel_m1_syn[point_m1]\n",
    "                point_m1 += 1\n",
    "            if data_seg2[idx, idy, idz] == 1:\n",
    "                data_CT_syn[idx, idy, idz] = ravel_m2_syn[point_m2]\n",
    "                point_m2 += 1\n",
    "            if (data_seg3[idx, idy, idz] == 3)and\\\n",
    "               (data_seg2[idx, idy, idz] != 1)and\\\n",
    "               (data_seg1[idx, idy, idz] != 1):\n",
    "                data_CT_syn[idx, idy, idz] = ravel_m3_syn[point_m3]\n",
    "                point_m3 += 1"
   ]
  },
  {
   "cell_type": "code",
   "execution_count": 63,
   "metadata": {},
   "outputs": [],
   "source": [
    "nii_CT_syn = nib.Nifti1Image(data_CT_syn, affine_CT, header_CT)\n",
    "nii_CT_syn_smooth = processing.smooth_image(nii_CT_syn, fwhm=3, mode='nearest')\n",
    "nib.save(nii_CT_syn_smooth, \"CT_syn_stick.nii\")"
   ]
  },
  {
   "cell_type": "code",
   "execution_count": null,
   "metadata": {},
   "outputs": [],
   "source": []
  }
 ],
 "metadata": {
  "kernelspec": {
   "display_name": "Python 3",
   "language": "python",
   "name": "python3"
  },
  "language_info": {
   "codemirror_mode": {
    "name": "ipython",
    "version": 3
   },
   "file_extension": ".py",
   "mimetype": "text/x-python",
   "name": "python",
   "nbconvert_exporter": "python",
   "pygments_lexer": "ipython3",
   "version": "3.7.5"
  }
 },
 "nbformat": 4,
 "nbformat_minor": 2
}
